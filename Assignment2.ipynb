{
  "nbformat": 4,
  "nbformat_minor": 0,
  "metadata": {
    "colab": {
      "provenance": []
    },
    "kernelspec": {
      "name": "python3",
      "display_name": "Python 3"
    },
    "language_info": {
      "name": "python"
    }
  },
  "cells": [
    {
      "cell_type": "markdown",
      "source": [
        "1.\tWrite a Python program to convert kilometers to miles\n",
        "\n"
      ],
      "metadata": {
        "id": "FzBYynhA_Sq0"
      }
    },
    {
      "cell_type": "code",
      "source": [
        "dis = float(input(\"Write a number:\"))\n",
        "result = 0.62137119 * dis\n",
        "print('The distance in miles',result)\n"
      ],
      "metadata": {
        "id": "XtPfcs_S_cIw"
      },
      "execution_count": null,
      "outputs": []
    },
    {
      "cell_type": "markdown",
      "source": [
        "2.\tWrite a Python program to convert Celsius to Fahrenheit?"
      ],
      "metadata": {
        "id": "cNybzLdL_g41"
      }
    },
    {
      "cell_type": "code",
      "source": [
        "temp = float(input(\"Write temperature in celsius:\"))\n",
        "conversion = (temp * 1.8) + 32\n",
        "print('The temperature in farnheit is {:.1f}'.format(conversion))\n"
      ],
      "metadata": {
        "id": "V9q89E5-_pcM"
      },
      "execution_count": null,
      "outputs": []
    },
    {
      "cell_type": "markdown",
      "source": [
        "3.\tWrite a Python program to display calendar?"
      ],
      "metadata": {
        "id": "Q3mfgXeo_vic"
      }
    },
    {
      "cell_type": "code",
      "source": [
        "import calendar \n",
        "\n",
        "y = int(input(\"Write a year: \"))\n",
        "m = int(input(\"Write a month:\"))\n",
        "\n",
        "print(calendar.month(y,m))"
      ],
      "metadata": {
        "colab": {
          "base_uri": "https://localhost:8080/"
        },
        "id": "44_y1Wr7_wu_",
        "outputId": "aeff254a-6d8e-406b-fa44-76bb45bdf50c"
      },
      "execution_count": 3,
      "outputs": [
        {
          "output_type": "stream",
          "name": "stdout",
          "text": [
            "Write a year: 2019\n",
            "Write a month:9\n",
            "   September 2019\n",
            "Mo Tu We Th Fr Sa Su\n",
            "                   1\n",
            " 2  3  4  5  6  7  8\n",
            " 9 10 11 12 13 14 15\n",
            "16 17 18 19 20 21 22\n",
            "23 24 25 26 27 28 29\n",
            "30\n",
            "\n"
          ]
        }
      ]
    },
    {
      "cell_type": "markdown",
      "source": [
        "4.\tWrite a Python program to solve quadratic equation?"
      ],
      "metadata": {
        "id": "Kj_UjSWW_0Vb"
      }
    },
    {
      "cell_type": "code",
      "source": [
        "#quadratic equation is ax^2+bx+c=0\n",
        "\n",
        "import math\n",
        "a=1\n",
        "b=4\n",
        "c=2\n",
        "\n",
        "#finding the discriminant \n",
        "d= b**2-4*a*c\n",
        "\n",
        "z1 = (-b + math.sqrt(d)/(2*a))\n",
        "z2 = (-b - math.sqrt(d)/(2*a))\n",
        "\n",
        "print(\"The roots of the equation are\",z1,z2)"
      ],
      "metadata": {
        "colab": {
          "base_uri": "https://localhost:8080/"
        },
        "id": "q3METL7A_5jD",
        "outputId": "426da270-1112-484f-d411-f98ff0d5d56f"
      },
      "execution_count": 9,
      "outputs": [
        {
          "output_type": "stream",
          "name": "stdout",
          "text": [
            "The roots of the eqaution are -2.585786437626905 -5.414213562373095\n"
          ]
        }
      ]
    },
    {
      "cell_type": "markdown",
      "source": [
        "5.\tWrite a Python program to swap two variables without temp variable?"
      ],
      "metadata": {
        "id": "AtBE5mMu_7_o"
      }
    },
    {
      "cell_type": "code",
      "source": [
        "x = 5\n",
        "y = 7\n",
        "\n",
        "x,y = y,x\n",
        "print('x= ',x)\n",
        "print('y= ',y)"
      ],
      "metadata": {
        "colab": {
          "base_uri": "https://localhost:8080/"
        },
        "id": "nFjDFJb3_3Rf",
        "outputId": "b0e9d480-b7f5-4033-a170-0cedf67101f1"
      },
      "execution_count": 10,
      "outputs": [
        {
          "output_type": "stream",
          "name": "stdout",
          "text": [
            "x=  7\n",
            "y=  5\n"
          ]
        }
      ]
    }
  ]
}